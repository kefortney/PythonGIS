{
 "cells": [
  {
   "cell_type": "markdown",
   "metadata": {},
   "source": [
    "GeoJSON\n",
    "-------------\n",
    "\n",
    "https://pypi.python.org/pypi/geojson\n",
    "https://tools.ietf.org/html/rfc7946\n",
    "\n",
    "GeoJSON is a geospatial data interchange format based on JavaScript Object Notation (JSON).  It defines several types of JSON objects and the manner in which they are combined to represent data about geographic features, their properties, and their spatial extents. GeoJSON uses a geographic coordinate reference system, World Geodetic System 1984, and units of decimal degrees.\n",
    "\n",
    "This library contains:\n",
    "\n",
    "Functions for encoding and decoding GeoJSON formatted data\n",
    "Classes for all GeoJSON Objects\n",
    "An implementation of the Python __geo_interface__ Specification\n",
    "\n",
    "In my exprience Conda does not have it to install, try using:\n",
    "\n",
    "pip install geojson\n",
    "\n"
   ]
  },
  {
   "cell_type": "code",
   "execution_count": 1,
   "metadata": {
    "collapsed": true
   },
   "outputs": [],
   "source": [
    "import geojson"
   ]
  },
  {
   "cell_type": "markdown",
   "metadata": {
    "collapsed": true
   },
   "source": [
    "http://vtransmap01.aot.state.vt.us/arcgis/rest/services/Master/General/FeatureServer/26/query?outFields=*&where=1%3D1\n",
    "\n",
    "https://opendata.arcgis.com/datasets/b9e94f19121d482d9b6d848f4357112a_26.geojson"
   ]
  },
  {
   "cell_type": "code",
   "execution_count": null,
   "metadata": {
    "collapsed": true
   },
   "outputs": [],
   "source": []
  }
 ],
 "metadata": {
  "kernelspec": {
   "display_name": "Python 3",
   "language": "python",
   "name": "python3"
  },
  "language_info": {
   "codemirror_mode": {
    "name": "ipython",
    "version": 3
   },
   "file_extension": ".py",
   "mimetype": "text/x-python",
   "name": "python",
   "nbconvert_exporter": "python",
   "pygments_lexer": "ipython3",
   "version": "3.6.2"
  }
 },
 "nbformat": 4,
 "nbformat_minor": 2
}
