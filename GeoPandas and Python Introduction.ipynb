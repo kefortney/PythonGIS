{
 "cells": [
  {
   "cell_type": "markdown",
   "metadata": {},
   "source": [
    "Geopandas and Python\n",
    "-------------\n",
    "http://geopandas.org/\n",
    "\n",
    "GeoPandas is an open source project to make working with geospatial data in python easier. GeoPandas extends the datatypes used by pandas to allow spatial operations on geometric types. Geometric operations are performed by shapely. Geopandas further depends on fiona for file access and descartes and matplotlib for plotting.\n",
    "\n",
    "The goal of GeoPandas is to make working with geospatial data in python easier. It combines the capabilities of pandas and shapely, providing geospatial operations in pandas and a high-level interface to multiple geometries to shapely. GeoPandas enables you to easily do operations in python that would otherwise require a spatial database such as PostGIS.\n",
    "\n",
    "How to install geopandas: http://geopandas.org/install.html#installing-geopandas\n",
    "\n",
    "Dependencies\n",
    "-----------\n",
    "Installation via conda should also install all dependencies, but a complete list is as follows:\n",
    "* numpy\n",
    "* pandas (version 0.15.2 or later)\n",
    "* shapely\n",
    "* fiona\n",
    "* six\n",
    "* pyproj\n",
    "\n",
    "Further, optional dependencies are:\n",
    "* geopy 0.99 (optional; for geocoding)\n",
    "* psycopg2 (optional; for PostGIS connection)\n",
    "* rtree (optional; spatial index to improve performance)\n",
    "\n",
    "For plotting, these additional packages may be used:\n",
    "\n",
    "* matplotlib\n",
    "* descartes\n",
    "* pysal"
   ]
  },
  {
   "cell_type": "code",
   "execution_count": 1,
   "metadata": {
    "collapsed": true
   },
   "outputs": [],
   "source": [
    "%matplotlib inline\n",
    "import geopandas\n",
    "import pandas as pd\n",
    "\n",
    "# Visualisation\n",
    "import matplotlib \n",
    "import matplotlib.pyplot as plt\n",
    "import matplotlib.pylab as pylab"
   ]
  },
  {
   "cell_type": "markdown",
   "metadata": {},
   "source": [
    "To import a shapefile you can use the following:"
   ]
  },
  {
   "cell_type": "code",
   "execution_count": 2,
   "metadata": {
    "collapsed": true
   },
   "outputs": [],
   "source": [
    "linRef = geopandas.read_file('VT_Linear_Referencing_System__EndtoEnd_2014.shp')"
   ]
  },
  {
   "cell_type": "markdown",
   "metadata": {},
   "source": [
    "If you do not want to unzip the shapefile, you can actually import it directly from a zip.  VFS stands for Virtual File System which is an abstraction layer on top of a more concrete file system. The purpose of a VFS is to allow client applications to access different types of concrete file systems in a uniform way."
   ]
  },
  {
   "cell_type": "code",
   "execution_count": 3,
   "metadata": {
    "collapsed": true
   },
   "outputs": [],
   "source": [
    "fedAid = geopandas.read_file('/VT_Federal_Aid_Urban_Boundaries.shp', vfs='zip://VT_Federal_Aid_Urban_Boundaries.zip')"
   ]
  },
  {
   "cell_type": "markdown",
   "metadata": {},
   "source": [
    "Just like Pandas, many of the same commands work to view and manipulate the file"
   ]
  },
  {
   "cell_type": "code",
   "execution_count": 4,
   "metadata": {},
   "outputs": [
    {
     "data": {
      "text/html": [
       "<div>\n",
       "<table border=\"1\" class=\"dataframe\">\n",
       "  <thead>\n",
       "    <tr style=\"text-align: right;\">\n",
       "      <th></th>\n",
       "      <th>AOTMILES_S</th>\n",
       "      <th>CTCODE</th>\n",
       "      <th>ENDMEASURE</th>\n",
       "      <th>ETE_LR</th>\n",
       "      <th>LENGTH</th>\n",
       "      <th>OBJECTID</th>\n",
       "      <th>Route_ID</th>\n",
       "      <th>SHAPE_MILE</th>\n",
       "      <th>STARTMEASU</th>\n",
       "      <th>Shape_STLe</th>\n",
       "      <th>Shape_ST_1</th>\n",
       "      <th>Shape_ST_2</th>\n",
       "      <th>Shape_ST_3</th>\n",
       "      <th>State_Code</th>\n",
       "      <th>TWN_LR</th>\n",
       "      <th>Year_Recor</th>\n",
       "      <th>geometry</th>\n",
       "    </tr>\n",
       "  </thead>\n",
       "  <tbody>\n",
       "    <tr>\n",
       "      <th>0</th>\n",
       "      <td>1.282</td>\n",
       "      <td>-</td>\n",
       "      <td>0.472</td>\n",
       "      <td>A0051</td>\n",
       "      <td>0.472</td>\n",
       "      <td>1</td>\n",
       "      <td>A0051</td>\n",
       "      <td>0.472</td>\n",
       "      <td>0.000</td>\n",
       "      <td>0</td>\n",
       "      <td>760.308671</td>\n",
       "      <td>760.308671</td>\n",
       "      <td>760.308671</td>\n",
       "      <td>50</td>\n",
       "      <td>-</td>\n",
       "      <td>2014</td>\n",
       "      <td>LINESTRING (538326.5774117857 212383.095637900...</td>\n",
       "    </tr>\n",
       "    <tr>\n",
       "      <th>1</th>\n",
       "      <td>1.282</td>\n",
       "      <td>-</td>\n",
       "      <td>1.282</td>\n",
       "      <td>A0051</td>\n",
       "      <td>0.810</td>\n",
       "      <td>2</td>\n",
       "      <td>A0051</td>\n",
       "      <td>0.793</td>\n",
       "      <td>0.472</td>\n",
       "      <td>0</td>\n",
       "      <td>1276.065367</td>\n",
       "      <td>1276.065367</td>\n",
       "      <td>1276.065367</td>\n",
       "      <td>50</td>\n",
       "      <td>-</td>\n",
       "      <td>2014</td>\n",
       "      <td>LINESTRING (538155.057453172 213245.9156458256...</td>\n",
       "    </tr>\n",
       "    <tr>\n",
       "      <th>2</th>\n",
       "      <td>0.038</td>\n",
       "      <td>-</td>\n",
       "      <td>0.038</td>\n",
       "      <td>A0051NA001</td>\n",
       "      <td>0.038</td>\n",
       "      <td>3</td>\n",
       "      <td>A0051NA001</td>\n",
       "      <td>0.036</td>\n",
       "      <td>0.000</td>\n",
       "      <td>0</td>\n",
       "      <td>57.704465</td>\n",
       "      <td>57.704465</td>\n",
       "      <td>57.704465</td>\n",
       "      <td>50</td>\n",
       "      <td>-</td>\n",
       "      <td>2014</td>\n",
       "      <td>LINESTRING (538239.8674507886 213021.095638344...</td>\n",
       "    </tr>\n",
       "  </tbody>\n",
       "</table>\n",
       "</div>"
      ],
      "text/plain": [
       "   AOTMILES_S CTCODE  ENDMEASURE      ETE_LR  LENGTH  OBJECTID    Route_ID  \\\n",
       "0       1.282      -       0.472       A0051   0.472         1       A0051   \n",
       "1       1.282      -       1.282       A0051   0.810         2       A0051   \n",
       "2       0.038      -       0.038  A0051NA001   0.038         3  A0051NA001   \n",
       "\n",
       "   SHAPE_MILE  STARTMEASU  Shape_STLe   Shape_ST_1   Shape_ST_2   Shape_ST_3  \\\n",
       "0       0.472       0.000           0   760.308671   760.308671   760.308671   \n",
       "1       0.793       0.472           0  1276.065367  1276.065367  1276.065367   \n",
       "2       0.036       0.000           0    57.704465    57.704465    57.704465   \n",
       "\n",
       "   State_Code TWN_LR  Year_Recor  \\\n",
       "0          50      -        2014   \n",
       "1          50      -        2014   \n",
       "2          50      -        2014   \n",
       "\n",
       "                                            geometry  \n",
       "0  LINESTRING (538326.5774117857 212383.095637900...  \n",
       "1  LINESTRING (538155.057453172 213245.9156458256...  \n",
       "2  LINESTRING (538239.8674507886 213021.095638344...  "
      ]
     },
     "execution_count": 4,
     "metadata": {},
     "output_type": "execute_result"
    }
   ],
   "source": [
    "linRef.head(3)"
   ]
  },
  {
   "cell_type": "code",
   "execution_count": 5,
   "metadata": {},
   "outputs": [
    {
     "data": {
      "text/html": [
       "<div>\n",
       "<table border=\"1\" class=\"dataframe\">\n",
       "  <thead>\n",
       "    <tr style=\"text-align: right;\">\n",
       "      <th></th>\n",
       "      <th>OBJECTID</th>\n",
       "      <th>OBJECTID_1</th>\n",
       "      <th>STATEFP</th>\n",
       "      <th>Shape_Leng</th>\n",
       "      <th>Shape_STAr</th>\n",
       "      <th>Shape_STLe</th>\n",
       "      <th>Shape_ST_1</th>\n",
       "      <th>Shape_ST_2</th>\n",
       "      <th>UAName</th>\n",
       "      <th>geometry</th>\n",
       "    </tr>\n",
       "  </thead>\n",
       "  <tbody>\n",
       "    <tr>\n",
       "      <th>0</th>\n",
       "      <td>1</td>\n",
       "      <td>2</td>\n",
       "      <td>50</td>\n",
       "      <td>0.662345</td>\n",
       "      <td>8.699257e+07</td>\n",
       "      <td>62917.449643</td>\n",
       "      <td>8.699257e+07</td>\n",
       "      <td>62917.449643</td>\n",
       "      <td>Rutland</td>\n",
       "      <td>POLYGON ((462283.7472807991 119744.2254758718,...</td>\n",
       "    </tr>\n",
       "    <tr>\n",
       "      <th>1</th>\n",
       "      <td>2</td>\n",
       "      <td>5</td>\n",
       "      <td>50</td>\n",
       "      <td>0.591941</td>\n",
       "      <td>3.637226e+07</td>\n",
       "      <td>56253.782423</td>\n",
       "      <td>3.637226e+07</td>\n",
       "      <td>56253.782423</td>\n",
       "      <td>Bennington</td>\n",
       "      <td>POLYGON ((445106.9872694843 39297.37542070934,...</td>\n",
       "    </tr>\n",
       "    <tr>\n",
       "      <th>2</th>\n",
       "      <td>3</td>\n",
       "      <td>6</td>\n",
       "      <td>50</td>\n",
       "      <td>0.985037</td>\n",
       "      <td>1.387593e+08</td>\n",
       "      <td>91905.077540</td>\n",
       "      <td>1.387593e+08</td>\n",
       "      <td>91905.077540</td>\n",
       "      <td>Barre-Montpelier</td>\n",
       "      <td>POLYGON ((494269.9073027863 201372.155532597, ...</td>\n",
       "    </tr>\n",
       "  </tbody>\n",
       "</table>\n",
       "</div>"
      ],
      "text/plain": [
       "   OBJECTID  OBJECTID_1 STATEFP  Shape_Leng    Shape_STAr    Shape_STLe  \\\n",
       "0         1           2      50    0.662345  8.699257e+07  62917.449643   \n",
       "1         2           5      50    0.591941  3.637226e+07  56253.782423   \n",
       "2         3           6      50    0.985037  1.387593e+08  91905.077540   \n",
       "\n",
       "     Shape_ST_1    Shape_ST_2            UAName  \\\n",
       "0  8.699257e+07  62917.449643           Rutland   \n",
       "1  3.637226e+07  56253.782423        Bennington   \n",
       "2  1.387593e+08  91905.077540  Barre-Montpelier   \n",
       "\n",
       "                                            geometry  \n",
       "0  POLYGON ((462283.7472807991 119744.2254758718,...  \n",
       "1  POLYGON ((445106.9872694843 39297.37542070934,...  \n",
       "2  POLYGON ((494269.9073027863 201372.155532597, ...  "
      ]
     },
     "execution_count": 5,
     "metadata": {},
     "output_type": "execute_result"
    }
   ],
   "source": [
    "fedAid.head(3)"
   ]
  },
  {
   "cell_type": "markdown",
   "metadata": {},
   "source": [
    "Plotting\n",
    "-------\n",
    "First a quick plot of what is in both of these shape files, one is a series of lines, and the other is a set of polygon vectors.  Matplotlib can deal with these complext shapes although there is a lot that can be done to refine them to better fit your need including adding a basemap."
   ]
  },
  {
   "cell_type": "markdown",
   "metadata": {},
   "source": []
  },
  {
   "cell_type": "code",
   "execution_count": 6,
   "metadata": {},
   "outputs": [
    {
     "data": {
      "image/png": "[encoded data removed]",
      "text/plain": [
       "<matplotlib.figure.Figure at 0x20dba9ddf60>"
      ]
     },
     "metadata": {},
     "output_type": "display_data"
    }
   ],
   "source": [
    "linRef.plot()\n",
    "plt.show()"
   ]
  },
  {
   "cell_type": "code",
   "execution_count": 7,
   "metadata": {},
   "outputs": [
    {
     "data": {
      "image/png": "[encoded data removed]",
      "text/plain": [
       "<matplotlib.figure.Figure at 0x20dbd839278>"
      ]
     },
     "metadata": {},
     "output_type": "display_data"
    }
   ],
   "source": [
    "fedAid.plot()\n",
    "plt.show()"
   ]
  },
  {
   "cell_type": "markdown",
   "metadata": {},
   "source": [
    "The mathmatical functions common to Python and Numpy can be applied to the geodata objects"
   ]
  },
  {
   "cell_type": "code",
   "execution_count": 19,
   "metadata": {},
   "outputs": [
    {
     "data": {
      "text/plain": [
       "0    8.699257e+07\n",
       "1    3.637226e+07\n",
       "2    1.387593e+08\n",
       "3    2.544343e+08\n",
       "4    2.167186e+07\n",
       "5    3.385882e+07\n",
       "6    3.013370e+07\n",
       "7    2.177379e+07\n",
       "8    2.807481e+07\n",
       "dtype: float64"
      ]
     },
     "execution_count": 19,
     "metadata": {},
     "output_type": "execute_result"
    }
   ],
   "source": [
    "fedAidArea = fedAid.geometry.area\n",
    "fedAidArea"
   ]
  },
  {
   "cell_type": "code",
   "execution_count": 14,
   "metadata": {},
   "outputs": [
    {
     "data": {
      "text/html": [
       "<div>\n",
       "<table border=\"1\" class=\"dataframe\">\n",
       "  <thead>\n",
       "    <tr style=\"text-align: right;\">\n",
       "      <th></th>\n",
       "      <th>OBJECTID</th>\n",
       "      <th>OBJECTID_1</th>\n",
       "      <th>STATEFP</th>\n",
       "      <th>Shape_Leng</th>\n",
       "      <th>Shape_STAr</th>\n",
       "      <th>Shape_STLe</th>\n",
       "      <th>Shape_ST_1</th>\n",
       "      <th>Shape_ST_2</th>\n",
       "      <th>geometry</th>\n",
       "    </tr>\n",
       "    <tr>\n",
       "      <th>UAName</th>\n",
       "      <th></th>\n",
       "      <th></th>\n",
       "      <th></th>\n",
       "      <th></th>\n",
       "      <th></th>\n",
       "      <th></th>\n",
       "      <th></th>\n",
       "      <th></th>\n",
       "      <th></th>\n",
       "    </tr>\n",
       "  </thead>\n",
       "  <tbody>\n",
       "    <tr>\n",
       "      <th>Rutland</th>\n",
       "      <td>1</td>\n",
       "      <td>2</td>\n",
       "      <td>50</td>\n",
       "      <td>0.662345</td>\n",
       "      <td>8.699257e+07</td>\n",
       "      <td>62917.449643</td>\n",
       "      <td>8.699257e+07</td>\n",
       "      <td>62917.449643</td>\n",
       "      <td>POLYGON ((462283.7472807991 119744.2254758718,...</td>\n",
       "    </tr>\n",
       "    <tr>\n",
       "      <th>Bennington</th>\n",
       "      <td>2</td>\n",
       "      <td>5</td>\n",
       "      <td>50</td>\n",
       "      <td>0.591941</td>\n",
       "      <td>3.637226e+07</td>\n",
       "      <td>56253.782423</td>\n",
       "      <td>3.637226e+07</td>\n",
       "      <td>56253.782423</td>\n",
       "      <td>POLYGON ((445106.9872694843 39297.37542070934,...</td>\n",
       "    </tr>\n",
       "    <tr>\n",
       "      <th>Barre-Montpelier</th>\n",
       "      <td>3</td>\n",
       "      <td>6</td>\n",
       "      <td>50</td>\n",
       "      <td>0.985037</td>\n",
       "      <td>1.387593e+08</td>\n",
       "      <td>91905.077540</td>\n",
       "      <td>1.387593e+08</td>\n",
       "      <td>91905.077540</td>\n",
       "      <td>POLYGON ((494269.9073027863 201372.155532597, ...</td>\n",
       "    </tr>\n",
       "    <tr>\n",
       "      <th>Burlington</th>\n",
       "      <td>4</td>\n",
       "      <td>7</td>\n",
       "      <td>50</td>\n",
       "      <td>2.249055</td>\n",
       "      <td>2.544343e+08</td>\n",
       "      <td>211559.512489</td>\n",
       "      <td>2.544343e+08</td>\n",
       "      <td>211559.512489</td>\n",
       "      <td>POLYGON ((440053.2872647978 206946.3255362583,...</td>\n",
       "    </tr>\n",
       "    <tr>\n",
       "      <th>St. Albans</th>\n",
       "      <td>5</td>\n",
       "      <td>9</td>\n",
       "      <td>50</td>\n",
       "      <td>0.250999</td>\n",
       "      <td>2.167186e+07</td>\n",
       "      <td>24150.346924</td>\n",
       "      <td>2.167186e+07</td>\n",
       "      <td>24150.346924</td>\n",
       "      <td>POLYGON ((452085.2872729512 253527.0255690207,...</td>\n",
       "    </tr>\n",
       "    <tr>\n",
       "      <th>Brattleboro</th>\n",
       "      <td>6</td>\n",
       "      <td>10</td>\n",
       "      <td>50</td>\n",
       "      <td>0.457181</td>\n",
       "      <td>3.385882e+07</td>\n",
       "      <td>43985.899333</td>\n",
       "      <td>3.385882e+07</td>\n",
       "      <td>43985.899333</td>\n",
       "      <td>POLYGON ((494953.3173034703 35104.15541806642,...</td>\n",
       "    </tr>\n",
       "    <tr>\n",
       "      <th>Middlebury</th>\n",
       "      <td>7</td>\n",
       "      <td>11</td>\n",
       "      <td>50</td>\n",
       "      <td>0.523151</td>\n",
       "      <td>3.013370e+07</td>\n",
       "      <td>49104.963761</td>\n",
       "      <td>3.013370e+07</td>\n",
       "      <td>49104.963761</td>\n",
       "      <td>POLYGON ((450513.2472723935 163501.4455060693,...</td>\n",
       "    </tr>\n",
       "    <tr>\n",
       "      <th>St. Johnsbury</th>\n",
       "      <td>8</td>\n",
       "      <td>12</td>\n",
       "      <td>50</td>\n",
       "      <td>0.464789</td>\n",
       "      <td>2.177379e+07</td>\n",
       "      <td>45414.358699</td>\n",
       "      <td>2.177379e+07</td>\n",
       "      <td>45414.358699</td>\n",
       "      <td>POLYGON ((537732.4073332608 217175.0055435983,...</td>\n",
       "    </tr>\n",
       "    <tr>\n",
       "      <th>White River Junction</th>\n",
       "      <td>9</td>\n",
       "      <td>0</td>\n",
       "      <td>50</td>\n",
       "      <td>0.540327</td>\n",
       "      <td>2.807481e+07</td>\n",
       "      <td>45471.817395</td>\n",
       "      <td>2.807481e+07</td>\n",
       "      <td>45471.817395</td>\n",
       "      <td>POLYGON ((514885.2473171381 126768.7654808198,...</td>\n",
       "    </tr>\n",
       "  </tbody>\n",
       "</table>\n",
       "</div>"
      ],
      "text/plain": [
       "                      OBJECTID  OBJECTID_1 STATEFP  Shape_Leng    Shape_STAr  \\\n",
       "UAName                                                                         \n",
       "Rutland                      1           2      50    0.662345  8.699257e+07   \n",
       "Bennington                   2           5      50    0.591941  3.637226e+07   \n",
       "Barre-Montpelier             3           6      50    0.985037  1.387593e+08   \n",
       "Burlington                   4           7      50    2.249055  2.544343e+08   \n",
       "St. Albans                   5           9      50    0.250999  2.167186e+07   \n",
       "Brattleboro                  6          10      50    0.457181  3.385882e+07   \n",
       "Middlebury                   7          11      50    0.523151  3.013370e+07   \n",
       "St. Johnsbury                8          12      50    0.464789  2.177379e+07   \n",
       "White River Junction         9           0      50    0.540327  2.807481e+07   \n",
       "\n",
       "                         Shape_STLe    Shape_ST_1     Shape_ST_2  \\\n",
       "UAName                                                             \n",
       "Rutland                62917.449643  8.699257e+07   62917.449643   \n",
       "Bennington             56253.782423  3.637226e+07   56253.782423   \n",
       "Barre-Montpelier       91905.077540  1.387593e+08   91905.077540   \n",
       "Burlington            211559.512489  2.544343e+08  211559.512489   \n",
       "St. Albans             24150.346924  2.167186e+07   24150.346924   \n",
       "Brattleboro            43985.899333  3.385882e+07   43985.899333   \n",
       "Middlebury             49104.963761  3.013370e+07   49104.963761   \n",
       "St. Johnsbury          45414.358699  2.177379e+07   45414.358699   \n",
       "White River Junction   45471.817395  2.807481e+07   45471.817395   \n",
       "\n",
       "                                                               geometry  \n",
       "UAName                                                                   \n",
       "Rutland               POLYGON ((462283.7472807991 119744.2254758718,...  \n",
       "Bennington            POLYGON ((445106.9872694843 39297.37542070934,...  \n",
       "Barre-Montpelier      POLYGON ((494269.9073027863 201372.155532597, ...  \n",
       "Burlington            POLYGON ((440053.2872647978 206946.3255362583,...  \n",
       "St. Albans            POLYGON ((452085.2872729512 253527.0255690207,...  \n",
       "Brattleboro           POLYGON ((494953.3173034703 35104.15541806642,...  \n",
       "Middlebury            POLYGON ((450513.2472723935 163501.4455060693,...  \n",
       "St. Johnsbury         POLYGON ((537732.4073332608 217175.0055435983,...  \n",
       "White River Junction  POLYGON ((514885.2473171381 126768.7654808198,...  "
      ]
     },
     "execution_count": 14,
     "metadata": {},
     "output_type": "execute_result"
    }
   ],
   "source": [
    "fedAid.set_index('UAName')"
   ]
  },
  {
   "cell_type": "code",
   "execution_count": 20,
   "metadata": {},
   "outputs": [
    {
     "ename": "NameError",
     "evalue": "name 'urlopen' is not defined",
     "output_type": "error",
     "traceback": [
      "\u001b[0;31m---------------------------------------------------------------------------\u001b[0m",
      "\u001b[0;31mNameError\u001b[0m                                 Traceback (most recent call last)",
      "\u001b[0;32m<ipython-input-20-e8fe4e1e14d6>\u001b[0m in \u001b[0;36m<module>\u001b[0;34m()\u001b[0m\n\u001b[1;32m      1\u001b[0m \u001b[1;32mimport\u001b[0m \u001b[0mjson\u001b[0m\u001b[1;33m\u001b[0m\u001b[0m\n\u001b[1;32m      2\u001b[0m \u001b[1;33m\u001b[0m\u001b[0m\n\u001b[0;32m----> 3\u001b[0;31m \u001b[0mjson\u001b[0m\u001b[1;33m.\u001b[0m\u001b[0mload\u001b[0m\u001b[1;33m(\u001b[0m\u001b[0murlopen\u001b[0m\u001b[1;33m(\u001b[0m\u001b[1;34m\"https://opendata.arcgis.com/datasets/b9e94f19121d482d9b6d848f4357112a_26.geojson\"\u001b[0m\u001b[1;33m)\u001b[0m\u001b[1;33m)\u001b[0m\u001b[1;33m\u001b[0m\u001b[0m\n\u001b[0m",
      "\u001b[0;31mNameError\u001b[0m: name 'urlopen' is not defined"
     ]
    }
   ],
   "source": [
    "#import json\n",
    "#import urllib2\n",
    "#json.load(urllib2.urlopen(\"https://opendata.arcgis.com/datasets/b9e94f19121d482d9b6d848f4357112a_26.geojson\"))"
   ]
  },
  {
   "cell_type": "code",
   "execution_count": null,
   "metadata": {
    "collapsed": true
   },
   "outputs": [],
   "source": [
    "#import geojson"
   ]
  },
  {
   "cell_type": "code",
   "execution_count": 11,
   "metadata": {
    "collapsed": true
   },
   "outputs": [],
   "source": [
    "#linRef = linRef.drop(0)"
   ]
  },
  {
   "cell_type": "code",
   "execution_count": null,
   "metadata": {
    "collapsed": true
   },
   "outputs": [],
   "source": []
  },
  {
   "cell_type": "code",
   "execution_count": null,
   "metadata": {
    "collapsed": true
   },
   "outputs": [],
   "source": []
  },
  {
   "cell_type": "code",
   "execution_count": null,
   "metadata": {
    "collapsed": true
   },
   "outputs": [],
   "source": []
  }
 ],
 "metadata": {
  "kernelspec": {
   "display_name": "Python 3",
   "language": "python",
   "name": "python3"
  },
  "language_info": {
   "codemirror_mode": {
    "name": "ipython",
    "version": 3
   },
   "file_extension": ".py",
   "mimetype": "text/x-python",
   "name": "python",
   "nbconvert_exporter": "python",
   "pygments_lexer": "ipython3",
   "version": "3.6.2"
  }
 },
 "nbformat": 4,
 "nbformat_minor": 2
}
